{
  "nbformat": 4,
  "nbformat_minor": 0,
  "metadata": {
    "colab": {
      "name": "03-2 선형 회귀.ipynb",
      "provenance": [],
      "collapsed_sections": [],
      "authorship_tag": "ABX9TyNJuizUnc3jK2qjg3/gjdZP",
      "include_colab_link": true
    },
    "kernelspec": {
      "name": "python3",
      "display_name": "Python 3"
    },
    "language_info": {
      "name": "python"
    }
  },
  "cells": [
    {
      "cell_type": "markdown",
      "metadata": {
        "id": "view-in-github",
        "colab_type": "text"
      },
      "source": [
        "<a href=\"https://colab.research.google.com/github/rhdmsggg/Colab_machine_learning/blob/main/03_2_%EC%84%A0%ED%98%95_%ED%9A%8C%EA%B7%80.ipynb\" target=\"_parent\"><img src=\"https://colab.research.google.com/assets/colab-badge.svg\" alt=\"Open In Colab\"/></a>"
      ]
    },
    {
      "cell_type": "markdown",
      "metadata": {
        "id": "Tb3mTnYgA4CG"
      },
      "source": [
        "#k-최근접 이웃의 한계"
      ]
    },
    {
      "cell_type": "code",
      "metadata": {
        "id": "YpmGbxzO_3fq"
      },
      "source": [
        "import numpy as np\n",
        "\n",
        "perch_length = np.array([8.4, 13.7, 15.0, 16.2, 17.4, 18.0, 18.7, 19.0, 19.6, 20.0, 21.0,\n",
        "       21.0, 21.0, 21.3, 22.0, 22.0, 22.0, 22.0, 22.0, 22.5, 22.5, 22.7,\n",
        "       23.0, 23.5, 24.0, 24.0, 24.6, 25.0, 25.6, 26.5, 27.3, 27.5, 27.5,\n",
        "       27.5, 28.0, 28.7, 30.0, 32.8, 34.5, 35.0, 36.5, 36.0, 37.0, 37.0,\n",
        "       39.0, 39.0, 39.0, 40.0, 40.0, 40.0, 40.0, 42.0, 43.0, 43.0, 43.5,\n",
        "       44.0])\n",
        "perch_weight = np.array([5.9, 32.0, 40.0, 51.5, 70.0, 100.0, 78.0, 80.0, 85.0, 85.0, 110.0,\n",
        "       115.0, 125.0, 130.0, 120.0, 120.0, 130.0, 135.0, 110.0, 130.0,\n",
        "       150.0, 145.0, 150.0, 170.0, 225.0, 145.0, 188.0, 180.0, 197.0,\n",
        "       218.0, 300.0, 260.0, 265.0, 250.0, 250.0, 300.0, 320.0, 514.0,\n",
        "       556.0, 840.0, 685.0, 700.0, 700.0, 690.0, 900.0, 650.0, 820.0,\n",
        "       850.0, 900.0, 1015.0, 820.0, 1100.0, 1000.0, 1100.0, 1000.0,\n",
        "       1000.0])\n"
      ],
      "execution_count": 2,
      "outputs": []
    },
    {
      "cell_type": "code",
      "metadata": {
        "id": "ZXD0HkyQBQlP"
      },
      "source": [
        "from sklearn.model_selection import train_test_split\n",
        "\n",
        "# 훈련 세트와 테스트 세트로 나눈다\n",
        "train_input, test_input, train_target, test_target = train_test_split(\n",
        "    perch_length, perch_weight, random_state = 42)\n",
        "\n",
        "# 훈련 세트와 테스트 세트를 2차원 배열로 바꾼다\n",
        "train_input = train_input.reshape(-1, 1)\n",
        "test_input = test_input.reshape(-1, 1)"
      ],
      "execution_count": 3,
      "outputs": []
    },
    {
      "cell_type": "code",
      "metadata": {
        "colab": {
          "base_uri": "https://localhost:8080/"
        },
        "id": "ZZIztjETBvnQ",
        "outputId": "fc0b8ed5-4ac8-491a-ccb8-a0c9ef9ac74f"
      },
      "source": [
        "from sklearn.neighbors import KNeighborsRegressor\n",
        "\n",
        "knr = KNeighborsRegressor(n_neighbors = 3)\n",
        "\n",
        "# k-최근접 이웃 회귀 모델을 훈련한다.\n",
        "knr.fit(train_input, train_target)"
      ],
      "execution_count": 4,
      "outputs": [
        {
          "output_type": "execute_result",
          "data": {
            "text/plain": [
              "KNeighborsRegressor(algorithm='auto', leaf_size=30, metric='minkowski',\n",
              "                    metric_params=None, n_jobs=None, n_neighbors=3, p=2,\n",
              "                    weights='uniform')"
            ]
          },
          "metadata": {},
          "execution_count": 4
        }
      ]
    },
    {
      "cell_type": "code",
      "metadata": {
        "colab": {
          "base_uri": "https://localhost:8080/"
        },
        "id": "Nf5zYYW5CETH",
        "outputId": "3eb5cb6e-d177-443a-966e-f853cc2731dd"
      },
      "source": [
        "print(knr.predict([[50]]))"
      ],
      "execution_count": 5,
      "outputs": [
        {
          "output_type": "stream",
          "name": "stdout",
          "text": [
            "[1033.33333333]\n"
          ]
        }
      ]
    },
    {
      "cell_type": "markdown",
      "metadata": {
        "id": "_jW-aAJYCK_g"
      },
      "source": [
        "#50cm 농어의 이웃"
      ]
    },
    {
      "cell_type": "code",
      "metadata": {
        "colab": {
          "base_uri": "https://localhost:8080/",
          "height": 279
        },
        "id": "ZnBelECECM3Q",
        "outputId": "4d210608-3219-4808-dd12-26894122fd32"
      },
      "source": [
        "import matplotlib.pyplot as plt\n",
        "\n",
        "# 50cm 농어의 이웃을 구한다\n",
        "distances, indexes = knr.kneighbors([[50]])\n",
        "\n",
        "# 훈련 세트의 산점도를 그린다\n",
        "plt.scatter(train_input, train_target)\n",
        "\n",
        "# 훈련 세트 중에서 이웃 샘플만 다시 그린다\n",
        "plt.scatter(train_input[indexes], train_target[indexes], marker='D')\n",
        "\n",
        "# 50cm 농어 데이터\n",
        "plt.scatter(50,1033, marker='^')\n",
        "plt.xlabel('length')\n",
        "plt.ylabel('weight')\n",
        "plt.show()"
      ],
      "execution_count": 7,
      "outputs": [
        {
          "output_type": "display_data",
          "data": {
            "image/png": "[encoded data removed]",
            "text/plain": [
              "<Figure size 432x288 with 1 Axes>"
            ]
          },
          "metadata": {
            "needs_background": "light"
          }
        }
      ]
    },
    {
      "cell_type": "markdown",
      "metadata": {
        "id": "D61_otihC_7F"
      },
      "source": [
        "이웃 샘플의 타깃의 평균 구하기"
      ]
    },
    {
      "cell_type": "code",
      "metadata": {
        "colab": {
          "base_uri": "https://localhost:8080/"
        },
        "id": "5S7YzFsyDCrQ",
        "outputId": "06127434-0b71-4dd9-d4fd-19d2e367905c"
      },
      "source": [
        "print(np.mean(train_target[indexes]))"
      ],
      "execution_count": 8,
      "outputs": [
        {
          "output_type": "stream",
          "name": "stdout",
          "text": [
            "1033.3333333333333\n"
          ]
        }
      ]
    },
    {
      "cell_type": "markdown",
      "metadata": {
        "id": "Dr1OLfdsDOt8"
      },
      "source": [
        "k-최근접 이웃 회귀는 가장 가까운 샘플을 찾아 타깃을 평균한다."
      ]
    },
    {
      "cell_type": "markdown",
      "metadata": {
        "id": "UGts9rf0DdeK"
      },
      "source": [
        "# 100cm 농어의 이웃"
      ]
    },
    {
      "cell_type": "code",
      "metadata": {
        "colab": {
          "base_uri": "https://localhost:8080/",
          "height": 279
        },
        "id": "WXtgYp7dDgb6",
        "outputId": "d99e2180-09fa-4d1a-98eb-e40feb5acc45"
      },
      "source": [
        "# 100cm 농어의 이웃을 구한다\n",
        "distances, indexes = knr.kneighbors([[100]])\n",
        "\n",
        "# 훈련 세트의 산점도를 그린다\n",
        "plt.scatter(train_input, train_target)\n",
        "\n",
        "# 훈련 세트주에서 이웃 샘플만 다시 그린다\n",
        "plt.scatter(train_input[indexes], train_target[indexes], marker='D')\n",
        "\n",
        "# 100cm 농어 데이터\n",
        "plt.scatter(100, 1033, marker='^')\n",
        "plt.xlabel('length')\n",
        "plt.ylabel('weight')\n",
        "plt.show()"
      ],
      "execution_count": 9,
      "outputs": [
        {
          "output_type": "display_data",
          "data": {
            "image/png": "[encoded data removed]",
            "text/plain": [
              "<Figure size 432x288 with 1 Axes>"
            ]
          },
          "metadata": {
            "needs_background": "light"
          }
        }
      ]
    },
    {
      "cell_type": "markdown",
      "metadata": {
        "id": "Ca6NyVYXEHaS"
      },
      "source": [
        "k-최근접 이웃 말고 다른 알고리즘 문제를 해결할 수 있는 알고리즘은 무엇일까"
      ]
    },
    {
      "cell_type": "markdown",
      "metadata": {
        "id": "fX5IjqkHEN3w"
      },
      "source": [
        "# 선형 회귀 (LinearRegression)"
      ]
    },
    {
      "cell_type": "code",
      "metadata": {
        "colab": {
          "base_uri": "https://localhost:8080/"
        },
        "id": "zfBwrE4TEVwr",
        "outputId": "38be4f7a-0f73-4d8f-b538-b9b2373fc28c"
      },
      "source": [
        "from sklearn.linear_model import LinearRegression\n",
        "lr = LinearRegression()\n",
        "\n",
        "#선형 회귀 모델 훈련\n",
        "lr.fit(train_input, train_target)\n",
        "\n",
        "#50cm 농어에 대한 예측\n",
        "print(lr.predict([[50]]))"
      ],
      "execution_count": 11,
      "outputs": [
        {
          "output_type": "stream",
          "name": "stdout",
          "text": [
            "[1241.83860323]\n"
          ]
        }
      ]
    },
    {
      "cell_type": "code",
      "metadata": {
        "colab": {
          "base_uri": "https://localhost:8080/"
        },
        "id": "65inpB4mEqMz",
        "outputId": "62aff728-b243-4cd3-8295-cad06df73fdc"
      },
      "source": [
        "print(lr.coef_, lr.intercept_)"
      ],
      "execution_count": 13,
      "outputs": [
        {
          "output_type": "stream",
          "name": "stdout",
          "text": [
            "[39.01714496] -709.0186449535477\n"
          ]
        }
      ]
    },
    {
      "cell_type": "code",
      "metadata": {
        "colab": {
          "base_uri": "https://localhost:8080/",
          "height": 265
        },
        "id": "feZtc2VDE4RJ",
        "outputId": "f3552c11-06f6-4fd7-89f4-64ed829dfe60"
      },
      "source": [
        "# 훈련 세트의 산점도를 그린다\n",
        "plt.scatter(train_input, train_target)\n",
        "\n",
        "# 15에서 50까지 1차 방정식 그래프를 그린다\n",
        "plt.plot([15,50], [15+lr.coef_+ lr.intercept_, 50*lr.coef_ + lr.intercept_])\n",
        "\n",
        "# 50cm 농어 데이터\n",
        "plt.scatter(50,1241.8, marker='^')\n",
        "plt.show()"
      ],
      "execution_count": 14,
      "outputs": [
        {
          "output_type": "display_data",
          "data": {
            "image/png": "[encoded data removed]",
            "text/plain": [
              "<Figure size 432x288 with 1 Axes>"
            ]
          },
          "metadata": {
            "needs_background": "light"
          }
        }
      ]
    },
    {
      "cell_type": "markdown",
      "metadata": {
        "id": "7C83RevSFUVO"
      },
      "source": [
        "이 직선이 선형 회귀 알고리즘이 이 데이터셋에서 찾은 최적의 직선이다"
      ]
    },
    {
      "cell_type": "code",
      "metadata": {
        "colab": {
          "base_uri": "https://localhost:8080/"
        },
        "id": "XPqUiLzyFb77",
        "outputId": "fdb210e3-1178-417d-8e00-895a591c048e"
      },
      "source": [
        "print(lr.score(train_input, train_target)) #훈련 세트\n",
        "print(lr.score(test_input, test_target)) #테스트 세트"
      ],
      "execution_count": 15,
      "outputs": [
        {
          "output_type": "stream",
          "name": "stdout",
          "text": [
            "0.9398463339976039\n",
            "0.8247503123313558\n"
          ]
        }
      ]
    },
    {
      "cell_type": "markdown",
      "metadata": {
        "id": "1ijVuCdTFx8t"
      },
      "source": [
        "선형 모델 단점 : x좌표가 음수로 나온다"
      ]
    },
    {
      "cell_type": "markdown",
      "metadata": {
        "id": "0HvSZAQCGvDt"
      },
      "source": [
        "# 다항 회귀\n",
        "\n",
        "최적의 곡선"
      ]
    },
    {
      "cell_type": "code",
      "metadata": {
        "colab": {
          "base_uri": "https://localhost:8080/"
        },
        "id": "b8ytW5daG2P2",
        "outputId": "916d0e57-8b89-437e-8d07-9b436f1b6132"
      },
      "source": [
        "train_poly = np.column_stack((train_input ** 2, train_input))\n",
        "test_poly = np.column_stack((test_input ** 2, test_input))\n",
        "\n",
        "print(train_poly.shape, test_poly.shape)"
      ],
      "execution_count": 16,
      "outputs": [
        {
          "output_type": "stream",
          "name": "stdout",
          "text": [
            "(42, 2) (14, 2)\n"
          ]
        }
      ]
    },
    {
      "cell_type": "markdown",
      "metadata": {
        "id": "Oz4vP4GZHMDy"
      },
      "source": [
        "## 모델 다시 훈련"
      ]
    },
    {
      "cell_type": "code",
      "metadata": {
        "colab": {
          "base_uri": "https://localhost:8080/"
        },
        "id": "FSf1XLmAHOVy",
        "outputId": "9a1dc31b-9806-4489-9179-8f8095b610c1"
      },
      "source": [
        "lr = LinearRegression()\n",
        "lr.fit(train_poly, train_target)\n",
        "\n",
        "print(lr.predict([[50**2, 50]]))"
      ],
      "execution_count": 18,
      "outputs": [
        {
          "output_type": "stream",
          "name": "stdout",
          "text": [
            "[1573.98423528]\n"
          ]
        }
      ]
    },
    {
      "cell_type": "code",
      "metadata": {
        "colab": {
          "base_uri": "https://localhost:8080/"
        },
        "id": "ntG19NshHYj3",
        "outputId": "466bfe85-6dda-4d9c-9998-f1b846fa330d"
      },
      "source": [
        "print(lr.coef_, lr.intercept_)"
      ],
      "execution_count": 19,
      "outputs": [
        {
          "output_type": "stream",
          "name": "stdout",
          "text": [
            "[  1.01433211 -21.55792498] 116.05021078278276\n"
          ]
        }
      ]
    },
    {
      "cell_type": "markdown",
      "metadata": {
        "id": "AYSxZDvAJMf-"
      },
      "source": [
        "이 모델은 다음과 같은 그래프를 학습했다.\n",
        "\n",
        "\n",
        "> **무게 = 1.01 X 길이² - 21.6 X 길이 + 116.05**\n",
        "\n",
        "\n"
      ]
    },
    {
      "cell_type": "markdown",
      "metadata": {
        "id": "JHQRwhPLJpFI"
      },
      "source": [
        "## 학습한 직선 그리기"
      ]
    },
    {
      "cell_type": "code",
      "metadata": {
        "colab": {
          "base_uri": "https://localhost:8080/",
          "height": 265
        },
        "id": "fLqcLoZOJi9z",
        "outputId": "17d01739-2d96-4d3e-a013-ab358914b592"
      },
      "source": [
        "# 구간별 직선을 그리기 위해 15에서 49까지 정수 배열을 만든다.\n",
        "point = np.arange(15, 50)\n",
        "\n",
        "# 훈련 세트의 산점도를 그린다\n",
        "plt.scatter(train_input, train_target)\n",
        "\n",
        "# 15에서 49까지 2차 방정식 그래프를 그린다\n",
        "plt.plot(point, 1.01*point**2 - 21.6*point + 116.05)\n",
        "\n",
        "# 50cm 농어 데이터\n",
        "plt.scatter([50], [1574], marker ='^')\n",
        "plt.show()"
      ],
      "execution_count": 21,
      "outputs": [
        {
          "output_type": "display_data",
          "data": {
            "image/png": "[encoded data removed]",
            "text/plain": [
              "<Figure size 432x288 with 1 Axes>"
            ]
          },
          "metadata": {
            "needs_background": "light"
          }
        }
      ]
    },
    {
      "cell_type": "code",
      "metadata": {
        "colab": {
          "base_uri": "https://localhost:8080/"
        },
        "id": "JIINIb-_KV_W",
        "outputId": "5484d308-a10e-4356-a026-f80ec93aba5a"
      },
      "source": [
        "print(lr.score(train_poly, train_target))\n",
        "\n",
        "print(lr.score(test_poly, test_target))"
      ],
      "execution_count": 22,
      "outputs": [
        {
          "output_type": "stream",
          "name": "stdout",
          "text": [
            "0.9706807451768623\n",
            "0.9775935108325122\n"
          ]
        }
      ]
    },
    {
      "cell_type": "markdown",
      "metadata": {
        "id": "4FqfKKQsSfnc"
      },
      "source": [
        "#마무리\n",
        "\n",
        "\n",
        "\n",
        "*   선형 회귀는 특성과 타깃 사이의 관계를 가장 잘 나타내는 선형 방정식을 찾는다.\n",
        "\n",
        "특성이 하나면 직선 방정식이 된다.\n",
        "*   선형 회귀가 찾은 특성과 타깃 사이의 관계는 선형 방정식의 계수 또는 가중치에 저장된다.\n",
        "\n",
        "\n",
        "\n",
        "*   모델 피라미터는 선형 회귀가 찾은 가중치처럼 머신러닝 모델이 특성에서 학습한 파라미터를 말한다.\n",
        "\n",
        "*   다항 회귀는 다항식을 사용하여 특성과 타깃 사이의 관계를 나타낸다. 이 함수는 비선형일 수 있지만 여전히 선형 회귀로 표현할 수 있다.\n",
        "\n",
        "\n",
        "\n"
      ]
    }
  ]
}